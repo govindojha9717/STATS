{
  "nbformat": 4,
  "nbformat_minor": 0,
  "metadata": {
    "colab": {
      "provenance": []
    },
    "kernelspec": {
      "name": "python3",
      "display_name": "Python 3"
    },
    "language_info": {
      "name": "python"
    }
  },
  "cells": [
    {
      "cell_type": "code",
      "execution_count": null,
      "metadata": {
        "id": "6uVqmO9Nta5-"
      },
      "outputs": [],
      "source": []
    },
    {
      "cell_type": "markdown",
      "source": [
        "Practical"
      ],
      "metadata": {
        "id": "4CELvsuNtf4z"
      }
    },
    {
      "cell_type": "markdown",
      "source": [
        "Q1. What is a random variable in probability theory?\n",
        "\n",
        "---> In probability theory, a random variable is a variable that takes on numerical values based on the outcome of a random event or experiment.\n",
        "\n",
        "Two main types of random variables: Discrete random variable – Takes on countable values. – Example: Number of heads in 3 coin tosses (0, 1, 2, 3)\n",
        "\n",
        "Continuous random variable – Takes on any value in a continuous range. – Example: Height of people, time taken to finish a race\n",
        "\n",
        "Simple Example: If you roll a fair 6-sided die, let X be the random variable representing the outcome. Then X can be 1, 2, 3, 4, 5, or 6, each with probability 1/6.\n",
        "\n",
        "So, a random variable maps outcomes of a random process to numbers."
      ],
      "metadata": {
        "id": "raDt2wHgtkyA"
      }
    },
    {
      "cell_type": "markdown",
      "source": [
        "Q2. What are the types of random variables?\n",
        "\n",
        "--->There are two main types of random variables in probability theory:\n",
        "\n",
        "Discrete Random Variable Takes on countable or finite values.\n",
        "Often arises from counting.\n",
        "\n",
        "Example values: 0, 1, 2, 3, ...\n",
        "\n",
        "Examples:\n",
        "\n",
        "Number of goals in a football match\n",
        "\n",
        "Number of students absent in a class\n",
        "\n",
        "Result of rolling a die (1–6)"
      ],
      "metadata": {
        "id": "sv2a7-jWtmFX"
      }
    },
    {
      "cell_type": "markdown",
      "source": [
        "Continuous Random Variable Takes on uncountable, infinite values over a range or interval.\n",
        "Often arises from measuring.\n",
        "\n",
        "Values can include decimals and fractions.\n",
        "\n",
        "Examples:\n",
        "\n",
        "Temperature in a city\n",
        "\n",
        "Time taken to complete a task\n",
        "\n",
        "Height or weight of people"
      ],
      "metadata": {
        "id": "eN_Z8CQSto1t"
      }
    },
    {
      "cell_type": "markdown",
      "source": [
        "Q3. What is the difference between discrete and continuous distributions?\n",
        "\n",
        "--->The difference between discrete and continuous distributions lies in the type of data they model:\n",
        "\n",
        "🔹 Discrete Distribution Deals with countable outcomes (finite or countably infinite).\n",
        "\n",
        "Associated with discrete random variables.\n",
        "\n",
        "Probabilities are assigned to individual values.\n",
        "\n",
        "Examples:\n",
        "\n",
        "Binomial Distribution: Number of successes in fixed trials\n",
        "\n",
        "Poisson Distribution: Number of arrivals/events per interval\n",
        "\n",
        "Example Values: 0, 1, 2, 3,..."
      ],
      "metadata": {
        "id": "4bYTnHEotrkM"
      }
    },
    {
      "cell_type": "markdown",
      "source": [
        " Continuous Distribution Deals with uncountable outcomes over an interval.\n",
        "\n",
        "Associated with continuous random variables.\n",
        "\n",
        "Probabilities are assigned to intervals, not exact points.\n",
        "\n",
        "(i.e., P(X = exact value) = 0)\n",
        "\n",
        "Examples:\n",
        "\n",
        "Normal Distribution: Bell-shaped curve\n",
        "\n",
        "Exponential Distribution: Time until next event\n",
        "\n",
        "Example Values: 2.31, 3.45, 5.00..."
      ],
      "metadata": {
        "id": "hm2Iwp2ktuDg"
      }
    },
    {
      "cell_type": "markdown",
      "source": [
        "Q4. What are probability distribution functions (PDF)?\n",
        "\n",
        "--->In probability theory, a Probability Distribution Function (PDF) describes how probabilities are distributed over the values of a random variable.\n",
        "\n",
        "Types based on variable type: 🔹 1. For Discrete Random Variables – Probability Mass Function (PMF) Gives the probability that a discrete random variable takes a specific value.\n",
        "\n",
        "Example: For a fair die,\n",
        "\n",
        "P(X=3)= 1/6\n",
        "\n",
        "For Continuous Random Variables – Probability Density Function (PDF) Describes the likelihood of a continuous variable falling within a certain range.\n",
        "The probability of an exact value is 0 (because infinite values exist).\n",
        "\n",
        "Area under the curve between two values gives the probability."
      ],
      "metadata": {
        "id": "QS1XO945twMp"
      }
    },
    {
      "cell_type": "markdown",
      "source": [
        "Q5. How do cumulative distribution functions (CDF) differ from probability distribution functions (PDF)?\n",
        "\n",
        "--->Probability Distribution Function (PDF) Used for continuous random variables.\n",
        "\n",
        "Tells the relative likelihood of the variable taking a particular value.\n",
        "\n",
        "The area under the curve of the PDF gives the probability between two points.\n",
        "\n",
        "Cumulative Distribution Function (CDF) Used for both discrete and continuous variables.\n",
        "\n",
        "Tells the probability that a variable is less than or equal to a certain value.\n",
        "\n",
        "Always non-decreasing, ranges from 0 to 1."
      ],
      "metadata": {
        "id": "V4rBReX6tzMq"
      }
    },
    {
      "cell_type": "markdown",
      "source": [
        "Q6. What is a discrete uniform distribution?\n",
        "\n",
        "---> A discrete uniform distribution is a type of probability distribution where each outcome in a finite set has an equal probability of occurring.\n",
        "\n",
        "🔹 Key Characteristics: The random variable is discrete (takes countable values).\n",
        "\n",
        "All possible outcomes are equally likely."
      ],
      "metadata": {
        "id": "EyfSpGQkt-ME"
      }
    },
    {
      "cell_type": "markdown",
      "source": [
        "Q7. What are the key properties of a Bernoulli distribution?\n",
        "\n",
        "---> Key properties of a Bernoulli distribution (short):\n",
        "\n",
        "Outcomes: 0 (failure), 1 (success)\n",
        "\n",
        "Parameter: 𝑝 p, the probability of success\n",
        "\n",
        "Mean: p\n",
        "\n",
        "Variance: p(1-p) Support: 𝑋 ∈ {0,1} X∈{0,1}\n",
        "\n",
        "Use: Single yes/no or success/failure experiment (e.g., coin toss)"
      ],
      "metadata": {
        "id": "otgEdlHhuAkp"
      }
    },
    {
      "cell_type": "markdown",
      "source": [
        "Q8. What is the binomial distribution, and how is it used in probability?\n",
        "\n",
        "--->Binomial Distribution (short): It models the number of successes in a fixed number of independent Bernoulli trials, each with the same probability of success 𝑝 p.\n",
        "\n",
        "Key Points: Parameters:\n",
        "\n",
        "n: number of trials p: probability of success"
      ],
      "metadata": {
        "id": "_kkXna8RuFSl"
      }
    },
    {
      "cell_type": "markdown",
      "source": [
        "Q9. What is the Poisson distribution and where is it applied?\n",
        "\n",
        "--->Poisson Distribution (short): Models the number of times an event occurs in a fixed interval of time or space, with events happening independently and at a constant average rate.\n",
        "\n",
        "Applications: Number of emails received per hour\n",
        "\n",
        "Number of calls at a call center per minute\n",
        "\n",
        "Number of accidents at a traffic junction in a day"
      ],
      "metadata": {
        "id": "py7ViqxMuHwZ"
      }
    },
    {
      "cell_type": "markdown",
      "source": [
        "Q10. What is a continuous uniform distribution?\n",
        "\n",
        "--->Continuous Uniform Distribution (short): A distribution where all values within a continuous interval [𝑎,𝑏] [a,b] are equally likely.\n",
        "\n",
        "Q11. What are the characteristics of a normal distribution?\n",
        "\n",
        "---> Characteristics of a Normal Distribution (short):\n",
        "\n",
        "Shape: Symmetrical bell curve\n",
        "\n",
        "Mean = Median = Mode (centered)\n",
        "\n",
        "Defined by: Mean (μ) and standard deviation (σ)\n",
        "\n",
        "Total area under curve = 1\n",
        "\n",
        "68-95-99.7 rule:\n",
        "\n",
        "~68% data within 1σ"
      ],
      "metadata": {
        "id": "A4AYFmhduKfJ"
      }
    },
    {
      "cell_type": "markdown",
      "source": [
        "~95% within 2σ\n",
        "\n",
        "~99.7% within 3σ\n",
        "\n",
        "Asymptotic tails: Never touch the x-axis\n",
        "\n",
        "Continuous and infinite range (−∞ to +∞)"
      ],
      "metadata": {
        "id": "OReVlu_NuOWB"
      }
    },
    {
      "cell_type": "markdown",
      "source": [
        "Q12. What is the standard normal distribution, and why is it important?\n",
        "\n",
        "--->Standard Normal Distribution (short): A special normal distribution with mean = 0 and standard deviation = 1.\n",
        "\n",
        "Why is it important? Serves as a reference to compare and convert any normal distribution using z-scores.\n",
        "\n",
        "Simplifies probability calculations and statistical inference.\n",
        "\n",
        "Used in hypothesis testing and confidence intervals."
      ],
      "metadata": {
        "id": "zq-xBiITuQMy"
      }
    },
    {
      "cell_type": "markdown",
      "source": [
        "Q13. What is the Central Limit Theorem (CLT), and why is it critical in statistics?\n",
        "\n",
        "--->Central Limit Theorem (CLT) (short): The CLT states that the sampling distribution of the sample mean approaches a normal distribution as the sample size becomes large, regardless of the original population’s distribution.\n",
        "\n",
        "Why is it critical? Allows using normal distribution methods even when population is not normal.\n",
        "\n",
        "Justifies many statistical tests and confidence intervals.\n",
        "\n",
        "Enables inference from sample data to population.\n",
        "\n",
        "Q14. How does the Central Limit Theorem relate to the normal distribution?\n",
        "\n",
        "--->Relation of CLT to Normal Distribution (short): The Central Limit Theorem says that as sample size increases, the distribution of the sample mean becomes approximately normal, even if the original data is not normal.\n",
        "\n",
        "So, CLT explains why normal distribution appears frequently in statistics and justifies using normal-based methods for large samples."
      ],
      "metadata": {
        "id": "jQaiFmNGuSKl"
      }
    },
    {
      "cell_type": "markdown",
      "source": [
        "Q15. What is the application of Z statistics in hypothesis testing?\n",
        "\n",
        "--->Application of Z-Statistics in Hypothesis Testing (short): Z-statistics helps to test hypotheses about population means when the population variance is known or the sample size is large. It measures how many standard deviations the sample mean is from the hypothesized population mean.\n",
        "\n",
        "Used to:\n",
        "\n",
        "Calculate the Z-score\n",
        "\n",
        "Determine p-values\n",
        "\n",
        "Decide whether to reject or accept the null hypothesis\n",
        "\n",
        "Q16.How do you calculate a Z-score, and what does it represent?\n",
        "\n",
        "--->Z-score (short): A Z-score measures how many standard deviations a data point is from the mean.\n",
        "\n",
        "Formula\n",
        "\n",
        "Z= (X-μ) / σ"
      ],
      "metadata": {
        "id": "mZfOn24ouU3e"
      }
    },
    {
      "cell_type": "markdown",
      "source": [
        "X = value\n",
        "\n",
        "μ = mean\n",
        "\n",
        "σ = standard deviation\n",
        "\n",
        "Q17. What are point estimates and interval estimates in statistics?\n",
        "\n",
        "--->Point Estimates: A single value calculated from sample data used to estimate a population parameter (e.g., sample mean to estimate population mean).\n",
        "\n",
        "Interval Estimates: A range of values, calculated from the sample, within which the population parameter is expected to lie with a certain confidence level (e.g., confidence interval).\n",
        "\n",
        "Q18.What is the significance of confidence intervals in statistical analysis?\n",
        "\n",
        "--->Significance of Confidence Intervals (short): Confidence intervals provide a range of plausible values for a population parameter, showing the uncertainty in an estimate and helping to make more informed decisions beyond a single point estimate.\n",
        "\n",
        "They indicate how reliable the estimate is, typically expressed with a confidence level (e.g., 95%)."
      ],
      "metadata": {
        "id": "7P-fqRWHuXqm"
      }
    },
    {
      "cell_type": "markdown",
      "source": [
        "Q19. What is the relationship between a Z-score and a confidence interval?\n",
        "\n",
        "--->Relationship between Z-score and Confidence Interval (short):\n",
        "\n",
        "The Z-score determines the critical value for a confidence level in a normal distribution.\n",
        "\n",
        "It defines how many standard deviations away from the mean the confidence interval extends.\n",
        "\n",
        "For example, a 95% confidence interval uses a Z-score of about ±1.96.\n",
        "\n",
        "So, Z-score sets the width of the confidence interval around the sample estimate.\n",
        "\n",
        "Q20. How are Z-scores used to compare different distributions?\n",
        "\n",
        "--->Using Z-scores to Compare Different Distributions (short):\n",
        "\n",
        "Z-scores standardize values from different distributions by converting them into a common scale with mean 0 and standard deviation 1. This lets you:\n",
        "\n",
        "Compare scores from different datasets or tests directly\n",
        "\n",
        "See how extreme a value is relative to its own distribution\n",
        "\n",
        "Identify outliers across varied data sources"
      ],
      "metadata": {
        "id": "ar9PPz59uaCN"
      }
    },
    {
      "cell_type": "markdown",
      "source": [
        "Basically, Z-scores make different data comparable regardless of original scales.\n",
        "\n",
        "Q21. What are the assumptions for applying the Central Limit Theorem?\n",
        "\n",
        "--->Assumptions for Applying the Central Limit Theorem (CLT) (short):\n",
        "\n",
        "Independence: Sample observations must be independent.\n",
        "\n",
        "Sample Size: Large enough sample size (usually 𝑛≥30 n≥30) for the theorem to hold well.\n",
        "\n",
        "Identically Distributed: Samples come from the same distribution (not always strict, but generally assumed).\n",
        "\n",
        "Finite Variance: The population variance should be finite.\n",
        "\n",
        "These ensure the sampling distribution of the mean approaches normality.\n",
        "\n",
        "Q22.What is the concept of expected value in a probability distribution?\n",
        "\n",
        "--->Expected Value (short): The expected value is the long-run average or mean of a random variable over many repetitions of an experiment.\n",
        "\n",
        "In a probability distribution: It’s calculated as the weighted average of all possible values, where weights are their probabilities."
      ],
      "metadata": {
        "id": "LNHwVPHZucbF"
      }
    },
    {
      "cell_type": "markdown",
      "source": [
        "Q23. How does a probability distribution relate to the expected outcome of a random variable?\n",
        "\n",
        "--->Relation between Probability Distribution and Expected Outcome (short):\n",
        "\n",
        "A probability distribution gives all possible values a random variable can take and their probabilities.\n",
        "\n",
        "The expected outcome (expected value) is the average value you'd expect over many trials, calculated from the distribution by weighting each outcome by its probability.\n",
        "\n",
        "So, the expected value summarizes the overall average behavior described by the probability distribution.\n"
      ],
      "metadata": {
        "id": "MHpP2ZpXue3T"
      }
    },
    {
      "cell_type": "markdown",
      "source": [],
      "metadata": {
        "id": "Myue_fDbuh9s"
      }
    }
  ]
}